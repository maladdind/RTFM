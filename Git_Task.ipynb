{
  "nbformat": 4,
  "nbformat_minor": 0,
  "metadata": {
    "colab": {
      "provenance": [],
      "collapsed_sections": [
        "CBvwepubxCbn",
        "xjghLBSFwcPM",
        "Za0MduJdyw1q"
      ]
    },
    "kernelspec": {
      "name": "python3",
      "display_name": "Python 3"
    },
    "language_info": {
      "name": "python"
    }
  },
  "cells": [
    {
      "cell_type": "markdown",
      "source": [
        "<h1 align='center'><font color='brown'> Git-Task\n",
        "<h5 align='center'><font color='brown'>"
      ],
      "metadata": {
        "id": "S8iIW2_IS559"
      }
    },
    {
      "cell_type": "markdown",
      "source": [
        "\n",
        "# 1. What is Git?\n",
        "\n",
        "\n",
        "> a) A nickname for GitHub\n",
        "\n",
        "> b) A remote repository platform\n",
        "\n",
        "> c) A programming language\n",
        "\n",
        "> d) A version control system"
      ],
      "metadata": {
        "id": "U9FCshffu7dY"
      }
    },
    {
      "cell_type": "code",
      "source": [
        "# d) A version control system"
      ],
      "metadata": {
        "id": "EqcslHWvuYPP"
      },
      "execution_count": null,
      "outputs": []
    },
    {
      "cell_type": "markdown",
      "source": [
        "# Why we use the Version Contol System :)"
      ],
      "metadata": {
        "id": "CBvwepubxCbn"
      }
    },
    {
      "cell_type": "code",
      "source": [
        "# allows collaboration, code reviewing, easier to switch back through versions of program"
      ],
      "metadata": {
        "id": "2QkD7Mn9xXDx"
      },
      "execution_count": null,
      "outputs": []
    },
    {
      "cell_type": "markdown",
      "source": [
        "\n",
        "# 2. Which command should you use to initialize a new Git repository?\n",
        "\n",
        "\n",
        "> a) git bash\n",
        "\n",
        "> b) git install\n",
        "\n",
        "> c) git init\n",
        "\n",
        "> d) git start"
      ],
      "metadata": {
        "id": "xjghLBSFwcPM"
      }
    },
    {
      "cell_type": "code",
      "source": [
        "# c) git init"
      ],
      "metadata": {
        "id": "3i7EU-TowcPN"
      },
      "execution_count": null,
      "outputs": []
    },
    {
      "cell_type": "markdown",
      "source": [
        "\n",
        "# 3. After you initialize a new Git repository and create a file named **`git-quiz.html`** , which of the following commands will **NOT** work if issued?\n",
        "\n",
        "\n",
        "> a) **`git add`** git-quiz.html\n",
        "\n",
        "> b) **`git status`**\n",
        "\n",
        "> c) **`git add .`**\n",
        "\n",
        "> d) **`git commit -m`** \"git quiz web file added\", ####\n"
      ],
      "metadata": {
        "id": "kJ2heVdRvfeT"
      }
    },
    {
      "cell_type": "markdown",
      "source": [
        "# 4. Committing Basics Exercise [Src](https://www.udemy.com/course/git-and-github-bootcamp/)\n",
        "\n",
        "\n",
        "1. Create a new folder called `Shopping`\n",
        "2. Initialize a new git repo inside of the `Shopping` folder (make sure you're not already inside of a Git repo!)\n",
        "3. Make a new file called `yard.txt`\n",
        "4. Make another new file called `groceries.txt`\n",
        "5. Make a commit that includes both empty files.  The message should be \"create yard and groceries lists\"\n",
        "6. In the `yard.txt` file, add the following changes:\n",
        "    \n",
        "    ```\n",
        "    - 2 bags of potting soil\n",
        "    - 1 bag of worm castings\n",
        "    ```\n",
        "    \n",
        "7. In the `groceries.txt` file, add the following:\n",
        "    \n",
        "    ```\n",
        "    - 4 tomatoes\n",
        "    - 6 shallots\n",
        "    - 1 fennel bulb\n",
        "    ```\n",
        "    \n",
        "8. Make a new commit, including **ONLY the changes from the `groceries.txt` file.**  The commit message should be \"add ingredients for tomato soup\"\n",
        "9. Make a second commit including **ONLY the changes to the `yard.txt` file.**  It should have the commit message \"add items needed for garden box\"\n",
        "10. Next up, add the following line to the end of `groceries.txt`\n",
        "    \n",
        "    ```\n",
        "    - couple of seed potatos\n",
        "    ```\n",
        "    \n",
        "11. In the `yard.txt` file, change the first line so that it says \"**3** bags of potting soil\" instead of \"2 bags of potting soil\"\n",
        "    \n",
        "    ```\n",
        "    - 3 bags of potting soil\n",
        "    - 1 bag of worm castings\n",
        "    ```\n",
        "    \n",
        "12. **Make a commit that includes the changes to BOTH files.**  The message should read \"add items needed to grow potatoes\"\n",
        "13. **Use a Git command to display a list of the commits. You should see 4!**\n"
      ],
      "metadata": {
        "id": "J5bkMzWgjizN"
      }
    },
    {
      "cell_type": "markdown",
      "source": [
        "# 5. Branching Exercise [Src](https://www.udemy.com/course/git-and-github-bootcamp/)\n",
        "\n",
        "\n",
        "1. Make a new folder called `Patronus`\n",
        "2. Make a new git repo inside the folder (make sure you're not in an existing repo)\n",
        "3. Create a new file called `patronus.txt` (leave it empty for now)\n",
        "4. Add and commit the empty file, with the message \"add empty patronus file\"\n",
        "5. Immediately make a new branch called `harry` and another branch called `snape` (both based on the master branch)\n",
        "6. Move to the `harry` branch using the \"new\" command to change branches.\n",
        "7. In the `patronus.txt` file, add the following:\n",
        "    \n",
        "    ```\n",
        "    HARRY'S PATRONUS\n",
        "    \n",
        "       /|       |\\\n",
        "    `__\\\\       //__'\n",
        "       ||      ||\n",
        "     \\__`\\     |'__/\n",
        "       `_\\\\   //_'\n",
        "       _.,:---;,._\n",
        "       \\_:     :_/\n",
        "         |@. .@|\n",
        "         |     |\n",
        "         ,\\.-./ \\\n",
        "         ;;`-'   `---__________-----.-.\n",
        "         ;;;                         \\_\\\n",
        "         ';;;                         |\n",
        "          ;    |                      ;\n",
        "           \\   \\     \\        |      /\n",
        "            \\_, \\    /        \\     |\\\n",
        "              |';|  |,,,,,,,,/ \\    \\ \\_\n",
        "              |  |  |           \\   /   |\n",
        "              \\  \\  |           |  / \\  |\n",
        "               | || |           | |   | |\n",
        "               | || |           | |   | |\n",
        "               | || |           | |   | |\n",
        "               |_||_|           |_|   |_|\n",
        "              /_//_/           /_/   /_/\n",
        "    ```\n",
        "    \n",
        "8. Add and commit the changes, with the commit message \"add harry's stag patronus\"\n",
        "9. Move over to the `snape` branch using the \"older\" command to change branches.\n",
        "10.  Put the following text in  the `patronus.txt` file:\n",
        "    \n",
        "    ```\n",
        "    SNAPE'S PATRONUS\n",
        "                       .     _,\n",
        "                       |`\\__/ /\n",
        "                       \\  . .(\n",
        "                        | __T|\n",
        "                       /   |\n",
        "          _.---======='    |\n",
        "         //               {}\n",
        "        `|      ,   ,     {}\n",
        "         \\      /___;    ,'\n",
        "          ) ,-;`    `\\  //\n",
        "         | / (        ;||\n",
        "         ||`\\\\        |||\n",
        "         ||  \\\\       |||\n",
        "         )\\   )\\      )||\n",
        "         `\"   `\"      `\"\"\n",
        "    ```\n",
        "    \n",
        "11. Add and commit the changes on the `snape` branch with the commit message \"add snape's doe patronus\"\n",
        "12. Next, create a new branch based upon the `snape` branch called `lily`\n",
        "13. Move to the `lily` branch\n",
        "14. Edit the `patronus.txt` file so that it says `LILY'S PATRONUS` at the top instead of\n",
        "`SNAPE'S PATRONUS` (leave the doe ascii-art alone)\n",
        "15. Add and commit the change with the message \"add lily's doe patronus\"\n",
        "16. Run a git command to list all branches (you should see 4)\n",
        "17. **Bonus:** delete the `snape` branch (poor Snape)"
      ],
      "metadata": {
        "id": "P4znEkadlFWP"
      }
    },
    {
      "cell_type": "markdown",
      "source": [
        "# 6. Github Basics Exercise [Src](https://www.udemy.com/course/git-and-github-bootcamp/)\n",
        "\n",
        "1. Create a new repository locally on your machine.\n",
        "2. Create a new Github repository. Name it whatever you want.\n",
        "3. Connect your local repo to the Github repo.\n",
        "4. Optional: rename the default branch from master to main.\n",
        "5. Make a new file called `favorites.txt`  Leave it empty. Make your first commit on the `main` branch.\n",
        "6. Push up your `main` branch to Github! Make sure you see your empty `favorites.txt` file on Github.\n",
        "7. Next, create two branches: `foods` and `movies`\n",
        "8. Switch to the `foods` branch.  Add three (or more) of your favorite foods to the `favorites.txt` file.  Add and commit your changes on the `foods` branch.\n",
        "9. Switch to the `movies` branch and add three or more of your favorite movies to the `favorites.txt` file.  Add and commit your changes on the movies branch.\n",
        "10. Push up your `foods` branch to Github. Make sure you see it on Github!\n",
        "11. Push up your `movies` branch to Github.  Make sure you see it on Github!\n",
        "12. Merge the `foods` branch into the `main` branch.  Then merge the `movies` branch into the `main` branch.  If necessary, resolve conflicts so that you end up with your favorite foods and favorite movies in the same `favorites.txt` file.\n",
        "13. Push up the latest work on your `main` branch to Github."
      ],
      "metadata": {
        "id": "hhleRZxNmKiX"
      }
    },
    {
      "cell_type": "markdown",
      "source": [
        "# Use git to upload this notebook on Gitub and put the link:"
      ],
      "metadata": {
        "id": "Za0MduJdyw1q"
      }
    },
    {
      "cell_type": "code",
      "source": [
        "# https://github.com/maladdind/RTFM"
      ],
      "metadata": {
        "id": "vdgMBmHx1Gae"
      },
      "execution_count": null,
      "outputs": []
    }
  ]
}